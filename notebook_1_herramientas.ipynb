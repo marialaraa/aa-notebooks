{
 "cells": [
  {
   "cell_type": "markdown",
   "metadata": {
    "slideshow": {
     "slide_type": "slide"
    }
   },
   "source": [
    "# Introducción a las herramientas\n",
    "### Bienvenidos a Jupyter Notebooks! \n",
    "\n",
    "En este notebook exploraremos algunas de las funcionalidades básicas de bibliotecas en python3 que utilizaremos durante todo el cuatrimestre. \n",
    "\n",
    "Consejos: \n",
    "- Chequear \"Help / Keyboard shortcuts\"\n",
    "- Leer: https://learnxinyminutes.com/docs/python3/ como introducción a python3\n",
    "- Consultar: https://jakevdp.github.io/PythonDataScienceHandbook/ como introducción a pandas, numpy y matplotlib\n",
    "- Recomendamos para ejecutar estas notebooks instalar python3 y el resto de las bibliotecas dentro del paquete [anaconda](https://conda.io/docs/user-guide/install/index.html)\n"
   ]
  },
  {
   "cell_type": "markdown",
   "metadata": {},
   "source": [
    "## Carga de modulos"
   ]
  },
  {
   "cell_type": "code",
   "execution_count": 9,
   "metadata": {
    "slideshow": {
     "slide_type": "fragment"
    }
   },
   "outputs": [],
   "source": [
    "%matplotlib inline\n",
    "\n",
    "import numpy as np # NUMPY\n",
    "import pandas as pd # PANDAS\n",
    "import matplotlib.pyplot as plt # MATPLOTLIB\n",
    "import seaborn as sns # SEABORN"
   ]
  },
  {
   "cell_type": "markdown",
   "metadata": {
    "slideshow": {
     "slide_type": "fragment"
    }
   },
   "source": [
    "#### Si la celda anterior no corre bien, chequear que se hayan instalado las librerías. En la terminal correr:\n",
    "```bash\n",
    "$ pip install sklearn numpy scipy matplotlib seaborn pandas\n",
    "```"
   ]
  },
  {
   "cell_type": "markdown",
   "metadata": {},
   "source": [
    "## Listas"
   ]
  },
  {
   "cell_type": "code",
   "execution_count": 10,
   "metadata": {
    "slideshow": {
     "slide_type": "subslide"
    }
   },
   "outputs": [
    {
     "data": {
      "text/plain": [
       "[1, 2, 3, 4]"
      ]
     },
     "execution_count": 10,
     "metadata": {},
     "output_type": "execute_result"
    }
   ],
   "source": [
    "lista_python = [1,2,3,4]\n",
    "lista_python"
   ]
  },
  {
   "cell_type": "code",
   "execution_count": 11,
   "metadata": {
    "slideshow": {
     "slide_type": "fragment"
    }
   },
   "outputs": [
    {
     "name": "stdout",
     "output_type": "stream",
     "text": [
      "[1, 2, 3, 4, 1, 2, 3, 4]\n",
      "[1, 2, 3, 4, 1, 2, 3, 4]\n"
     ]
    }
   ],
   "source": [
    "# Descomentar y probar lo siguiente:\n",
    "\n",
    "print(lista_python + lista_python)  # funciona?\n",
    "print(lista_python * 2)  # funciona?\n",
    "# print(lista_python ** 3) # funciona?\n",
    "# print(lista_python - lista_python)  # funciona?\n",
    "# print(lista_python * lista_python)  # funciona?\n"
   ]
  },
  {
   "cell_type": "markdown",
   "metadata": {
    "slideshow": {
     "slide_type": "slide"
    }
   },
   "source": [
    "## Numpy"
   ]
  },
  {
   "cell_type": "code",
   "execution_count": 12,
   "metadata": {
    "slideshow": {
     "slide_type": "fragment"
    }
   },
   "outputs": [
    {
     "data": {
      "text/plain": [
       "array([1, 2, 3, 4, 5])"
      ]
     },
     "execution_count": 12,
     "metadata": {},
     "output_type": "execute_result"
    }
   ],
   "source": [
    "array_numpy = np.array([1,2,3,4,5])\n",
    "array_numpy"
   ]
  },
  {
   "cell_type": "code",
   "execution_count": 13,
   "metadata": {
    "slideshow": {
     "slide_type": "fragment"
    }
   },
   "outputs": [
    {
     "name": "stdout",
     "output_type": "stream",
     "text": [
      "[ 2  4  6  8 10]\n",
      "[ 2  4  6  8 10]\n",
      "[  1   8  27  64 125]\n",
      "[ 1  4  9 16 25]\n",
      "[0 0 0 0 0]\n"
     ]
    }
   ],
   "source": [
    "print(array_numpy + array_numpy)\n",
    "print(array_numpy * 2)\n",
    "print(array_numpy ** 3)\n",
    "print(array_numpy * array_numpy)\n",
    "print(array_numpy - array_numpy)\n"
   ]
  },
  {
   "cell_type": "markdown",
   "metadata": {
    "slideshow": {
     "slide_type": "fragment"
    }
   },
   "source": [
    "#### Arreglos multidimensionales (Vectores, Matrices, Tensores, etc)"
   ]
  },
  {
   "cell_type": "code",
   "execution_count": 14,
   "metadata": {
    "slideshow": {
     "slide_type": "fragment"
    }
   },
   "outputs": [
    {
     "name": "stdout",
     "output_type": "stream",
     "text": [
      "Un vector de dim:  (1, 6)\n",
      "Una matriz de dim: (4, 3)\n",
      "Un tensor de dim:  (4, 2, 3)\n"
     ]
    }
   ],
   "source": [
    "v = np.array([1,2,3,4,5,6]).reshape(1,6)\n",
    "print(\"Un vector de dim: \", v.shape)\n",
    "\n",
    "m = np.array([[1,2,3],[4,5,6], [7,8,9], [10, 11, 12]])\n",
    "print(\"Una matriz de dim:\", m.shape)\n",
    "\n",
    "t = np.array([[[1,2,3], [2,3,3]], [[1,3,2], [4,3,2]], \n",
    "              [[4,2,3], [0,3,-1]], [[10,3,21], [34,13,12]]])\n",
    "print(\"Un tensor de dim: \", t.shape) # Vector de matrices, o matriz de vectores"
   ]
  },
  {
   "cell_type": "code",
   "execution_count": 15,
   "metadata": {
    "slideshow": {
     "slide_type": "slide"
    }
   },
   "outputs": [
    {
     "data": {
      "text/plain": [
       "array([[ 1,  2,  3],\n",
       "       [ 4,  5,  6],\n",
       "       [ 7,  8,  9],\n",
       "       [10, 11, 12]])"
      ]
     },
     "execution_count": 15,
     "metadata": {},
     "output_type": "execute_result"
    }
   ],
   "source": [
    "m"
   ]
  },
  {
   "cell_type": "code",
   "execution_count": 16,
   "metadata": {
    "slideshow": {
     "slide_type": "fragment"
    }
   },
   "outputs": [
    {
     "name": "stdout",
     "output_type": "stream",
     "text": [
      "suma con la función sum: [22 26 30]\n",
      "función sum de numpy array.sum: 78\n",
      "función sum de numpy np.sum: 78\n"
     ]
    }
   ],
   "source": [
    "print(\"suma con la función sum:\", sum(m))\n",
    "print(\"función sum de numpy array.sum:\", m.sum()) # suma toda la matriz\n",
    "print(\"función sum de numpy np.sum:\", np.sum(m)) # suma toda la matriz"
   ]
  },
  {
   "cell_type": "markdown",
   "metadata": {
    "slideshow": {
     "slide_type": "fragment"
    }
   },
   "source": [
    "- ```sum(m)``` devuelve la suma de cada columna, por qué?"
   ]
  },
  {
   "cell_type": "markdown",
   "metadata": {
    "slideshow": {
     "slide_type": "slide"
    }
   },
   "source": [
    "### Ejercicios: \n",
    "Implementar las siguientes funciones:"
   ]
  },
  {
   "cell_type": "code",
   "execution_count": 17,
   "metadata": {
    "slideshow": {
     "slide_type": "fragment"
    }
   },
   "outputs": [],
   "source": [
    "def suma_por_fila(m):\n",
    "    # que devuelve la suma de cada fila de la matriz m. \n",
    "    # Debe devolver un vector columna: (n x 1)\n",
    "    res = []\n",
    "    for row in m:\n",
    "        res.append([np.sum(row)])\n",
    "    return np.array(res)\n",
    "\n",
    "def transponer(m):\n",
    "    # que transponga la matriz m.\n",
    "    return np.transpose(m)\n",
    "\n",
    "def agregar_fila(m, row):\n",
    "    # que agregue la fila row a la matriz m.\n",
    "    return np.vstack([m, row])\n",
    "\n",
    "def convertir_a_columna(x):\n",
    "    # que convierta un vector fila en un vector columna. Es decir, de (1 x n) a (n x 1).\n",
    "    return x.reshape(np.size(x, 0), 1)\n",
    "\n",
    "def agregar_columna(m, col):\n",
    "    # que agregue la columna col a la matriz m.\n",
    "    return np.hstack([m, col])\n",
    "\n",
    "def producto(x, y):\n",
    "    # que multiplique los vectores x e y (producto interno): x^t.y\n",
    "    return sum(x*y)\n",
    "\n",
    "def equiespaciados(n, a, b):\n",
    "    # que devuelva n puntos equiespaciados entre a y b.\n",
    "    return np.linspace(a, b, n)\n",
    "\n",
    "    \n",
    "# Para completar estas funciones, revisar la documentación, para ello, descomentar algunas de las siguientes líneas\n",
    "# np?\n",
    "# np??\n",
    "# np.sum?\n",
    "# np.vstack?\n",
    "# np.hstack?\n",
    "# np.shape?\n",
    "# np.reshape?\n",
    "# np.linspace?"
   ]
  },
  {
   "cell_type": "code",
   "execution_count": 18,
   "metadata": {
    "slideshow": {
     "slide_type": "skip"
    }
   },
   "outputs": [
    {
     "name": "stdout",
     "output_type": "stream",
     "text": [
      "[[ 1  2  3]\n",
      " [ 4  5  6]\n",
      " [ 7  8  9]\n",
      " [10 11 12]]\n",
      "Suma por fila\n",
      " [[ 6]\n",
      " [15]\n",
      " [24]\n",
      " [33]]\n",
      "Transpuesta:\n",
      " [[ 1  4  7 10]\n",
      " [ 2  5  8 11]\n",
      " [ 3  6  9 12]]\n",
      "Fila nueva:\n",
      " [[ 1  2  3]\n",
      " [ 4  5  6]\n",
      " [ 7  8  9]\n",
      " [10 11 12]\n",
      " [13 14 15]]\n",
      "A vector columna:\n",
      " [[0]\n",
      " [0]\n",
      " [0]\n",
      " [0]]\n",
      "Columna nueva:\n",
      " [[ 1  2  3  0]\n",
      " [ 4  5  6  0]\n",
      " [ 7  8  9  0]\n",
      " [10 11 12  0]]\n",
      "producto:  7\n",
      "equiespaciados: \n",
      " [4. 6.]\n"
     ]
    }
   ],
   "source": [
    "print(m)\n",
    "\n",
    "print(\"Suma por fila\\n\", suma_por_fila(m))\n",
    "print(\"Transpuesta:\\n\", transponer(m))\n",
    "print(\"Fila nueva:\\n\", agregar_fila(m, np.array([13,14,15])))\n",
    "\n",
    "columna = convertir_a_columna(np.array([0,0,0,0]))\n",
    "                                     \n",
    "print(\"A vector columna:\\n\", columna)\n",
    "print(\"Columna nueva:\\n\", agregar_columna(m, columna))\n",
    "\n",
    "x = np.array([0,3,2,0])\n",
    "y =  np.array([4,1,2,2])\n",
    "print(\"producto: \", producto(x,y))\n",
    "\n",
    "print(\"equiespaciados: \\n\", equiespaciados(2, 4, 6))"
   ]
  },
  {
   "cell_type": "markdown",
   "metadata": {
    "slideshow": {
     "slide_type": "slide"
    }
   },
   "source": [
    "## Matplotlib"
   ]
  },
  {
   "cell_type": "code",
   "execution_count": 19,
   "metadata": {
    "slideshow": {
     "slide_type": "skip"
    }
   },
   "outputs": [
    {
     "data": {
      "image/png": "[encoded data removed]",
      "text/plain": [
       "<Figure size 432x288 with 1 Axes>"
      ]
     },
     "metadata": {},
     "output_type": "display_data"
    }
   ],
   "source": [
    "with plt.xkcd():\n",
    "    fig = plt.figure()\n",
    "    ax = fig.add_subplot(1, 1, 1)\n",
    "    ax.spines['right'].set_color('none') # se elimina linea superior y derecha\n",
    "    ax.spines['top'].set_color('none') \n",
    "    plt.xticks([]) # elimina regla\n",
    "    plt.yticks([])\n",
    "    ax.set_ylim([-30, 10])\n",
    "\n",
    "    # Genera puntos\n",
    "    data = np.ones(100)\n",
    "    data[70:] -= np.arange(30)\n",
    "\n",
    "    plt.annotate('El día que arrancó \"La casa de papel\"',\n",
    "                 xy=(70, 1), arrowprops=dict(arrowstyle='->'), \n",
    "                 xytext=(15, -10))\n",
    "\n",
    "    plt.plot(data)\n",
    "\n",
    "    plt.xlabel('días')\n",
    "    plt.ylabel('productividad');\n",
    "plt.rcdefaults()"
   ]
  },
  {
   "cell_type": "code",
   "execution_count": 20,
   "metadata": {
    "scrolled": false,
    "slideshow": {
     "slide_type": "fragment"
    }
   },
   "outputs": [
    {
     "name": "stdout",
     "output_type": "stream",
     "text": [
      "X= [-5.         -4.28571429 -3.57142857 -2.85714286 -2.14285714 -1.42857143\n",
      " -0.71428571  0.          0.71428571  1.42857143  2.14285714  2.85714286\n",
      "  3.57142857  4.28571429  5.        ]\n",
      "Y= [ 0.95892427  0.91034694  0.41672165 -0.2806294  -0.84078711 -0.98990308\n",
      " -0.6550779   0.          0.6550779   0.98990308  0.84078711  0.2806294\n",
      " -0.41672165 -0.91034694 -0.95892427]\n"
     ]
    }
   ],
   "source": [
    "x = np.linspace(-5, 5, 15)\n",
    "print(\"X=\", x)\n",
    "\n",
    "y = np.sin(x) # aplica sen a cada elemento. \n",
    "print(\"Y=\", y)\n",
    "\n"
   ]
  },
  {
   "cell_type": "code",
   "execution_count": 21,
   "metadata": {
    "slideshow": {
     "slide_type": "fragment"
    }
   },
   "outputs": [
    {
     "data": {
      "text/plain": [
       "[<matplotlib.lines.Line2D at 0x11c3f20f0>]"
      ]
     },
     "execution_count": 21,
     "metadata": {},
     "output_type": "execute_result"
    },
    {
     "data": {
      "image/png": "[encoded data removed]",
      "text/plain": [
       "<Figure size 1000x150 with 1 Axes>"
      ]
     },
     "metadata": {},
     "output_type": "display_data"
    }
   ],
   "source": [
    "# Descomentar lo siguiente para probar:\n",
    "# plt.plot?\n",
    "\n",
    "plt.figure(figsize=(10, 1.5))\n",
    "plt.plot(x, y, \".-\")"
   ]
  },
  {
   "cell_type": "code",
   "execution_count": 22,
   "metadata": {
    "slideshow": {
     "slide_type": "slide"
    }
   },
   "outputs": [
    {
     "data": {
      "image/png": "[encoded data removed]",
      "text/plain": [
       "<Figure size 1500x300 with 3 Axes>"
      ]
     },
     "metadata": {},
     "output_type": "display_data"
    }
   ],
   "source": [
    "fig, axes = plt.subplots(1, 3, figsize=(15, 3))\n",
    "axes[0].plot(x, y, marker=\"x\", color=\"red\", linewidth=1)\n",
    "\n",
    "axes[1].plot(x, y, marker=\"x\", color=\"blue\", linewidth=0.5)\n",
    "axes[1].plot(x, y+1, marker=\"x\", linewidth=0.4)\n",
    "\n",
    "axes[2].plot(y, x, \".-\");\n"
   ]
  },
  {
   "cell_type": "code",
   "execution_count": 23,
   "metadata": {
    "slideshow": {
     "slide_type": "skip"
    }
   },
   "outputs": [],
   "source": [
    "# Descomentar lo siguiente y probar\n",
    "plt.scatter?"
   ]
  },
  {
   "cell_type": "code",
   "execution_count": 24,
   "metadata": {
    "slideshow": {
     "slide_type": "slide"
    }
   },
   "outputs": [
    {
     "data": {
      "text/plain": [
       "<matplotlib.collections.PathCollection at 0x11d0e75c0>"
      ]
     },
     "execution_count": 24,
     "metadata": {},
     "output_type": "execute_result"
    },
    {
     "data": {
      "image/png": "[encoded data removed]",
      "text/plain": [
       "<Figure size 1000x300 with 1 Axes>"
      ]
     },
     "metadata": {},
     "output_type": "display_data"
    }
   ],
   "source": [
    "plt.figure(figsize=(10, 3))\n",
    "x1 = np.arange(0, 100)\n",
    "x2 = np.random.rand(100) * 5\n",
    "x3 = np.random.rand(100) - 1\n",
    "sizes = np.random.rand(100) * 100\n",
    "plt.scatter(x1, x2, color=\"blue\", marker=\"x\", s=sizes) # tamaños al azar\n",
    "plt.scatter(x1, x3, color=\"red\", s=np.linspace(0, 300, 100), alpha=0.5) # tamaños crecientes\n"
   ]
  },
  {
   "cell_type": "markdown",
   "metadata": {
    "slideshow": {
     "slide_type": "slide"
    }
   },
   "source": [
    "## Pandas"
   ]
  },
  {
   "cell_type": "code",
   "execution_count": 25,
   "metadata": {
    "slideshow": {
     "slide_type": "fragment"
    }
   },
   "outputs": [
    {
     "data": {
      "text/html": [
       "<div>\n",
       "<style scoped>\n",
       "    .dataframe tbody tr th:only-of-type {\n",
       "        vertical-align: middle;\n",
       "    }\n",
       "\n",
       "    .dataframe tbody tr th {\n",
       "        vertical-align: top;\n",
       "    }\n",
       "\n",
       "    .dataframe thead th {\n",
       "        text-align: right;\n",
       "    }\n",
       "</style>\n",
       "<table border=\"1\" class=\"dataframe\">\n",
       "  <thead>\n",
       "    <tr style=\"text-align: right;\">\n",
       "      <th></th>\n",
       "      <th>Nombre</th>\n",
       "      <th>Rol</th>\n",
       "      <th>Edad</th>\n",
       "    </tr>\n",
       "  </thead>\n",
       "  <tbody>\n",
       "    <tr>\n",
       "      <th>0</th>\n",
       "      <td>El Profesor</td>\n",
       "      <td>Atracador</td>\n",
       "      <td>40</td>\n",
       "    </tr>\n",
       "    <tr>\n",
       "      <th>1</th>\n",
       "      <td>Mónica Gaztambide</td>\n",
       "      <td>Rehén</td>\n",
       "      <td>35</td>\n",
       "    </tr>\n",
       "    <tr>\n",
       "      <th>2</th>\n",
       "      <td>Raquel Murillo</td>\n",
       "      <td>Policia</td>\n",
       "      <td>38</td>\n",
       "    </tr>\n",
       "    <tr>\n",
       "      <th>3</th>\n",
       "      <td>Tokio</td>\n",
       "      <td>Atracador</td>\n",
       "      <td>25</td>\n",
       "    </tr>\n",
       "    <tr>\n",
       "      <th>4</th>\n",
       "      <td>Berlín</td>\n",
       "      <td>Atracador</td>\n",
       "      <td>44</td>\n",
       "    </tr>\n",
       "    <tr>\n",
       "      <th>5</th>\n",
       "      <td>Alison Parker</td>\n",
       "      <td>Rehén</td>\n",
       "      <td>16</td>\n",
       "    </tr>\n",
       "  </tbody>\n",
       "</table>\n",
       "</div>"
      ],
      "text/plain": [
       "              Nombre        Rol  Edad\n",
       "0        El Profesor  Atracador    40\n",
       "1  Mónica Gaztambide      Rehén    35\n",
       "2     Raquel Murillo    Policia    38\n",
       "3              Tokio  Atracador    25\n",
       "4             Berlín  Atracador    44\n",
       "5      Alison Parker      Rehén    16"
      ]
     },
     "execution_count": 25,
     "metadata": {},
     "output_type": "execute_result"
    }
   ],
   "source": [
    "import pandas as pd\n",
    "from IPython.display import display\n",
    "\n",
    "# Creamos un dataset\n",
    "data = {\"Nombre\": [\"El Profesor\", \"Mónica Gaztambide\", \"Raquel Murillo\", \"Tokio\",\"Berlín\",\"Alison Parker\"],\n",
    "        \"Rol\" : [\"Atracador\", \"Rehén\", \"Policia\", \"Atracador\", \"Atracador\", \"Rehén\"],\n",
    "        \"Edad\": [40, 35, 38, 25, 44, 16]}\n",
    "\n",
    "data_pandas = pd.DataFrame(data)\n",
    "data_pandas"
   ]
  },
  {
   "cell_type": "code",
   "execution_count": 26,
   "metadata": {
    "slideshow": {
     "slide_type": "fragment"
    }
   },
   "outputs": [
    {
     "data": {
      "text/html": [
       "<div>\n",
       "<style scoped>\n",
       "    .dataframe tbody tr th:only-of-type {\n",
       "        vertical-align: middle;\n",
       "    }\n",
       "\n",
       "    .dataframe tbody tr th {\n",
       "        vertical-align: top;\n",
       "    }\n",
       "\n",
       "    .dataframe thead th {\n",
       "        text-align: right;\n",
       "    }\n",
       "</style>\n",
       "<table border=\"1\" class=\"dataframe\">\n",
       "  <thead>\n",
       "    <tr style=\"text-align: right;\">\n",
       "      <th></th>\n",
       "      <th>Nombre</th>\n",
       "      <th>Rol</th>\n",
       "      <th>Edad</th>\n",
       "    </tr>\n",
       "  </thead>\n",
       "  <tbody>\n",
       "    <tr>\n",
       "      <th>0</th>\n",
       "      <td>El Profesor</td>\n",
       "      <td>Atracador</td>\n",
       "      <td>40</td>\n",
       "    </tr>\n",
       "    <tr>\n",
       "      <th>1</th>\n",
       "      <td>Mónica Gaztambide</td>\n",
       "      <td>Rehén</td>\n",
       "      <td>35</td>\n",
       "    </tr>\n",
       "    <tr>\n",
       "      <th>2</th>\n",
       "      <td>Raquel Murillo</td>\n",
       "      <td>Policia</td>\n",
       "      <td>38</td>\n",
       "    </tr>\n",
       "    <tr>\n",
       "      <th>4</th>\n",
       "      <td>Berlín</td>\n",
       "      <td>Atracador</td>\n",
       "      <td>44</td>\n",
       "    </tr>\n",
       "  </tbody>\n",
       "</table>\n",
       "</div>"
      ],
      "text/plain": [
       "              Nombre        Rol  Edad\n",
       "0        El Profesor  Atracador    40\n",
       "1  Mónica Gaztambide      Rehén    35\n",
       "2     Raquel Murillo    Policia    38\n",
       "4             Berlín  Atracador    44"
      ]
     },
     "metadata": {},
     "output_type": "display_data"
    },
    {
     "data": {
      "text/html": [
       "<div>\n",
       "<style scoped>\n",
       "    .dataframe tbody tr th:only-of-type {\n",
       "        vertical-align: middle;\n",
       "    }\n",
       "\n",
       "    .dataframe tbody tr th {\n",
       "        vertical-align: top;\n",
       "    }\n",
       "\n",
       "    .dataframe thead th {\n",
       "        text-align: right;\n",
       "    }\n",
       "</style>\n",
       "<table border=\"1\" class=\"dataframe\">\n",
       "  <thead>\n",
       "    <tr style=\"text-align: right;\">\n",
       "      <th></th>\n",
       "      <th>Edad</th>\n",
       "    </tr>\n",
       "    <tr>\n",
       "      <th>Rol</th>\n",
       "      <th></th>\n",
       "    </tr>\n",
       "  </thead>\n",
       "  <tbody>\n",
       "    <tr>\n",
       "      <th>Atracador</th>\n",
       "      <td>36.333333</td>\n",
       "    </tr>\n",
       "    <tr>\n",
       "      <th>Policia</th>\n",
       "      <td>38.000000</td>\n",
       "    </tr>\n",
       "    <tr>\n",
       "      <th>Rehén</th>\n",
       "      <td>25.500000</td>\n",
       "    </tr>\n",
       "  </tbody>\n",
       "</table>\n",
       "</div>"
      ],
      "text/plain": [
       "                Edad\n",
       "Rol                 \n",
       "Atracador  36.333333\n",
       "Policia    38.000000\n",
       "Rehén      25.500000"
      ]
     },
     "metadata": {},
     "output_type": "display_data"
    }
   ],
   "source": [
    "display(data_pandas[data_pandas.Edad > 30])\n",
    "display(data_pandas.groupby(\"Rol\").mean())"
   ]
  },
  {
   "cell_type": "code",
   "execution_count": 27,
   "metadata": {
    "slideshow": {
     "slide_type": "skip"
    }
   },
   "outputs": [
    {
     "name": "stdout",
     "output_type": "stream",
     "text": [
      "Máscara: \n",
      "0     True\n",
      "1    False\n",
      "2    False\n",
      "3    False\n",
      "4     True\n",
      "5    False\n",
      "dtype: bool\n"
     ]
    },
    {
     "data": {
      "text/html": [
       "<div>\n",
       "<style scoped>\n",
       "    .dataframe tbody tr th:only-of-type {\n",
       "        vertical-align: middle;\n",
       "    }\n",
       "\n",
       "    .dataframe tbody tr th {\n",
       "        vertical-align: top;\n",
       "    }\n",
       "\n",
       "    .dataframe thead th {\n",
       "        text-align: right;\n",
       "    }\n",
       "</style>\n",
       "<table border=\"1\" class=\"dataframe\">\n",
       "  <thead>\n",
       "    <tr style=\"text-align: right;\">\n",
       "      <th></th>\n",
       "      <th>Nombre</th>\n",
       "      <th>Rol</th>\n",
       "      <th>Edad</th>\n",
       "    </tr>\n",
       "  </thead>\n",
       "  <tbody>\n",
       "    <tr>\n",
       "      <th>0</th>\n",
       "      <td>El Profesor</td>\n",
       "      <td>Atracador</td>\n",
       "      <td>40</td>\n",
       "    </tr>\n",
       "    <tr>\n",
       "      <th>4</th>\n",
       "      <td>Berlín</td>\n",
       "      <td>Atracador</td>\n",
       "      <td>44</td>\n",
       "    </tr>\n",
       "  </tbody>\n",
       "</table>\n",
       "</div>"
      ],
      "text/plain": [
       "        Nombre        Rol  Edad\n",
       "0  El Profesor  Atracador    40\n",
       "4       Berlín  Atracador    44"
      ]
     },
     "execution_count": 27,
     "metadata": {},
     "output_type": "execute_result"
    }
   ],
   "source": [
    "mascara_edad = (data_pandas.Edad > 30)\n",
    "mascara_rol = (data_pandas.Rol == \"Atracador\")\n",
    "mascara = mascara_edad & mascara_rol\n",
    "print(\"Máscara: \\n\", mascara, sep=\"\")\n",
    "data_pandas[mascara]"
   ]
  },
  {
   "cell_type": "code",
   "execution_count": null,
   "metadata": {},
   "outputs": [],
   "source": []
  }
 ],
 "metadata": {
  "kernelspec": {
   "display_name": "aa",
   "language": "python",
   "name": "aa"
  },
  "language_info": {
   "codemirror_mode": {
    "name": "ipython",
    "version": 3
   },
   "file_extension": ".py",
   "mimetype": "text/x-python",
   "name": "python",
   "nbconvert_exporter": "python",
   "pygments_lexer": "ipython3",
   "version": "3.7.0"
  }
 },
 "nbformat": 4,
 "nbformat_minor": 2
}
