{
 "cells": [
  {
   "cell_type": "markdown",
   "metadata": {},
   "source": [
    "## Implementación EM para GMMs"
   ]
  },
  {
   "cell_type": "markdown",
   "metadata": {},
   "source": [
    "### Inicialización:\n",
    "Decidir cuantos clusters (c) utilizaremos. Luego, inicializar los parámetros para $c$ normales: $c$ medias ($\\mu_c$), $c$  desvios ($\\sigma_c$), y $c$ pesos ($\\pi_c$).\n",
    "\n",
    "### Paso E:\n",
    "\n",
    "Calcular para cada punto $x^{(i)}$ la probabilidad ($r_{ic}$) de que el punto pertenezca al cluster c:\n",
    "$$r_{ic} = P(c | x^{(i)}) = \\frac{P(c)P(x^{(i)} | c)}{P(x^{(i)})} = \\frac{\\pi_c N(x^{(i)} \\ | \\ \\mu_c,\\sigma_c)}{\\Sigma_{k=1}^K \\pi_k N(x^{(i)} \\ | \\ \\mu_k,\\sigma_k)}$$\n",
    "\n",
    "donde \n",
    "\n",
    "$${\\displaystyle {\\begin{aligned}N(x^{(i)},\\mu_c,\\sigma_c)&{}={\\frac {1}{\\sigma_c {\\sqrt {2\\pi }}}}e^{-{\\frac {(x^{(i)}-\\mu_c )^{2}}{2\\sigma_c ^{2}}}},\\quad \\pi = 3.141592... .\\\\\\end{aligned}}}$$\n",
    "\n",
    "### Paso M:\n",
    "Para cada cluster c, actualizar $\\pi_c$, $\\mu_c$, y $\\sigma_c$ según los datos:\n",
    "\n",
    "$$ N_c = \\sum_{i}{r_{ic}}$$\n",
    "\n",
    "$$ \\mu^{(nuevo)}_c = \\frac{1}{N_c}\\sum_{i}{r_{ic}x^{(i)}}$$\n",
    "$$ \\sigma^{(nuevo)}_c = \\frac{1}{N_c}\\sum_{i}{r_{ic}(x^{(i)} - \\mu^{(nuevo)}_c)^2} $$\n",
    "$$ \\pi^{(nuevo)}_c = \\frac{N_c}{n}$$\n",
    "\n",
    "\n",
    "\n",
    "### Iterar \n",
    "Iterar hasta que la log-likelihood del modelo converja:\n",
    "\n",
    "$$ln \\ p(\\boldsymbol{X} \\ | \\ \\boldsymbol{\\pi},\\boldsymbol{\\mu},\\boldsymbol{\\sigma}) \\ = \\ \\Sigma_{i=1}^N \\ ln(\\Sigma_{k=1}^K \\pi_k N(x^{(i)} \\ | \\ \\mu_k,\\sigma_k))$$\n",
    "\n",
    "\n"
   ]
  },
  {
   "cell_type": "code",
   "execution_count": 7,
   "metadata": {},
   "outputs": [],
   "source": [
    "%matplotlib inline\n",
    "import scipy.stats\n",
    "from sklearn.cluster import KMeans\n",
    "import math \n",
    "import seaborn as sns\n",
    "import numpy as np\n",
    "import matplotlib.pyplot as plt\n",
    "from sklearn.mixture import GaussianMixture\n",
    "\n",
    "def gmm_train(X, n_clusters, tolerance = 1e-3):\n",
    "    v_mu, v_sigma, v_pi = inicializacion(n_clusters, X)\n",
    "    old_llk = 0\n",
    "    tolerance = 1e-3 # indica la mínima ganancia en llk para que el algoritmo continúe.\n",
    "    gain = np.inf\n",
    "\n",
    "    while(gain > tolerance):\n",
    "        print_iter(v_mu, v_sigma, v_pi, n_clusters)\n",
    "        r = e(X, n_clusters, v_mu, v_sigma, v_pi)\n",
    "        v_mu, v_sigma, v_pi = m(X, n_clusters, r)\n",
    "        llk = log_likelihood(X, v_mu, v_sigma, v_pi, n_clusters)\n",
    "        print(\"Log likelihood: \", llk)\n",
    "        gain = llk - old_llk\n",
    "   \n",
    "    return v_mu, v_sigma, v_pi\n",
    "\n",
    "\n",
    "def inicializacion(n_clusters, X):\n",
    "    ##################\n",
    "    # COMPLETAR\n",
    "    # Inicializar v_mu, v_sigma, v_pi (vectores que contienen una componente por cluster)\n",
    "    ##################\n",
    "    \n",
    "    return v_mu, v_sigma, v_pi\n",
    "\n",
    "def norm(x, mu, sigma):\n",
    "    return scipy.stats.norm(mu, sigma).pdf(x)\n",
    "\n",
    "def e(X, n_clusters, v_mu, v_sigma, v_pi):\n",
    "    r = np.ones((len(X), n_clusters))\n",
    "    \n",
    "    ##################\n",
    "    # COMPLETAR\n",
    "    # r[i, c] debera contener la probabilidad estimada P(c | x^(i))\n",
    "    ##################\n",
    "    \n",
    "    return r\n",
    "\n",
    "def m(X, n_clusters, r):\n",
    "    N = np.zeros(n_clusters)\n",
    "    v_mu_new = np.zeros(n_clusters)\n",
    "    v_sigma_new = np.zeros(n_clusters)\n",
    "    v_pi_new = np.zeros(n_clusters)\n",
    "    \n",
    "    ##################\n",
    "    # COMPLETAR\n",
    "    # v_mu_new, v_sigma_new, v_pi_new deberán contener los valores actualizados.\n",
    "    ##################\n",
    "    \n",
    "    return v_mu_new, v_sigma_new, v_pi_new\n",
    "\n",
    "\n",
    "def log_likelihood(X, v_mu, v_sigma, v_pi, n_clusters):\n",
    "    suma = 0\n",
    "    for i in range(len(X)):\n",
    "        suma_k = 0\n",
    "        for k in range(n_clusters):\n",
    "            suma_k += v_pi[k] * norm(X[i], v_mu[k], v_sigma[k])\n",
    "        suma += math.log(suma_k)\n",
    "    return suma\n",
    "\n",
    "\n",
    "def print_iter( v_mu, v_sigma, v_pi, n_clusters):\n",
    "    for c in range(n_clusters):\n",
    "        print(\"C{} => mu={} +- {} (pi={})\".format(c+1, \"%.2f\" % v_mu[c], \"%.2f\" % v_sigma[c], \"%.2f\" % v_pi[c]), end=\" | \")\n",
    "    print()\n",
    "\n",
    "def dibujar(X, v_mu, v_sigma, v_pi, n_clusters, title=\"GMMs\"):\n",
    "    plt.figure()\n",
    "    plt.title(title)\n",
    "    colors = sns.color_palette(\"hls\", n_clusters)\n",
    "    plt.plot(X, [1] * len(X), \".\")\n",
    "    for k in range(n_clusters):\n",
    "        col = colors[k]\n",
    "#         plt.plot([v_mu[k], v_mu[k]], [0, 2], label=\"$\\mu_{}$\".format(k), color=col)\n",
    "        plt.plot([v_mu[k] - v_sigma[k], v_mu[k] + v_sigma[k]], [1.1,1.1], color=col, label=\"$\\mu_{}$\".format(k))\n",
    "        plt.plot([v_mu[k] - v_sigma[k], v_mu[k] - v_sigma[k]], [0.9,1.2], color=col)\n",
    "        plt.plot([v_mu[k] + v_sigma[k], v_mu[k] + v_sigma[k]], [0.9,1.2], color=col)\n",
    "    plt.yticks([])\n",
    "    plt.ylim([0, 2])\n",
    "    plt.legend()\n",
    "    \n"
   ]
  },
  {
   "cell_type": "code",
   "execution_count": 8,
   "metadata": {},
   "outputs": [
    {
     "name": "stdout",
     "output_type": "stream",
     "text": [
      "DESCOMENTAR lo anterior\n",
      "Salida esperada:\n"
     ]
    },
    {
     "data": {
      "image/png": "[encoded data removed]",
      "text/plain": [
       "<Figure size 432x288 with 1 Axes>"
      ]
     },
     "metadata": {},
     "output_type": "display_data"
    }
   ],
   "source": [
    "# Datos para ejemplo\n",
    "np.random.seed(134)\n",
    "X = np.array([10, 11, 12, 20, 21, 22, 30, 31, 32, 29, 33])\n",
    "n_clusters = 3\n",
    "\n",
    "# DESCOMENTAR\n",
    "# v_mu, v_sigma, v_pi = gmm_train(X, n_clusters)\n",
    "# dibujar(X, v_mu, v_sigma, v_pi, n_clusters, title=\"implementacion propia\")\n",
    "print(\"DESCOMENTAR lo anterior\")\n",
    "\n",
    "print(\"Salida esperada:\")\n",
    "# SALIDA ESPERADA:\n",
    "sklearn_gmm = GaussianMixture(n_components=3)\n",
    "sklearn_gmm.fit(X.reshape(-1, 1))\n",
    "\n",
    "dibujar(X, sklearn_gmm.means_.ravel(), sklearn_gmm.covariances_.ravel(), sklearn_gmm.weights_.ravel(), n_clusters, title=\"sklearn\")\n"
   ]
  },
  {
   "cell_type": "code",
   "execution_count": 9,
   "metadata": {},
   "outputs": [
    {
     "name": "stdout",
     "output_type": "stream",
     "text": [
      "DESCOMENTAR lo anterior\n",
      "Salida esperada:\n"
     ]
    },
    {
     "data": {
      "image/png": "[encoded data removed]",
      "text/plain": [
       "<Figure size 432x288 with 1 Axes>"
      ]
     },
     "metadata": {},
     "output_type": "display_data"
    }
   ],
   "source": [
    "# Datos para ejemplo\n",
    "np.random.seed(134)\n",
    "n_clusters = 3\n",
    "X = np.concatenate([np.random.randn(50) * 2, (np.random.randn(30) + 10), (np.random.randn(100) * 3 + 25)])\n",
    "# v_mu, v_sigma, v_pi = gmm_train(X, n_clusters)\n",
    "# dibujar(X, v_mu, v_sigma, v_pi, n_clusters, title=\"implementacion propia\")\n",
    "\n",
    "print(\"DESCOMENTAR lo anterior\")\n",
    "print(\"Salida esperada:\")\n",
    "\n",
    "sklearn_gmm = GaussianMixture(n_components=n_clusters)\n",
    "sklearn_gmm.fit(X.reshape(-1, 1))\n",
    "\n",
    "dibujar(X, sklearn_gmm.means_.ravel(), sklearn_gmm.covariances_.ravel(), sklearn_gmm.weights_.ravel(), n_clusters, title=\"sklearn\")\n"
   ]
  },
  {
   "cell_type": "code",
   "execution_count": null,
   "metadata": {},
   "outputs": [],
   "source": []
  },
  {
   "cell_type": "code",
   "execution_count": null,
   "metadata": {},
   "outputs": [],
   "source": []
  }
 ],
 "metadata": {
  "kernelspec": {
   "display_name": "Python 3",
   "language": "python",
   "name": "python3"
  },
  "language_info": {
   "codemirror_mode": {
    "name": "ipython",
    "version": 3
   },
   "file_extension": ".py",
   "mimetype": "text/x-python",
   "name": "python",
   "nbconvert_exporter": "python",
   "pygments_lexer": "ipython3",
   "version": "3.6.5"
  }
 },
 "nbformat": 4,
 "nbformat_minor": 2
}
